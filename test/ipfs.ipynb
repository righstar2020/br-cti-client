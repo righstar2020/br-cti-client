{
 "cells": [
  {
   "cell_type": "code",
   "execution_count": 2,
   "metadata": {},
   "outputs": [
    {
     "name": "stdout",
     "output_type": "stream",
     "text": [
      "Error uploading file: ConnectTimeout: HTTPConnectionPool(host='172.22.232.42', port=5001): Max retries exceeded with url: /api/v0/version?stream-channels=true (Caused by ConnectTimeoutError(<ipfshttpclient2.requests_wrapper.HTTPConnection object at 0x0000019F468E6710>, 'Connection to 172.22.232.42 timed out. (connect timeout=120)'))\n"
     ]
    }
   ],
   "source": [
    "import ipfshttpclient2\n",
    "#更新版本的IPFS连接器\n",
    "def upload_file_to_ipfs(file_path):\n",
    "    try:\n",
    "        # 连接到本地 IPFS 节点\n",
    "        with ipfshttpclient2.connect('/ip4/172.22.232.42/tcp/5001/http') as client:\n",
    "            # 上传文件\n",
    "            res = client.add(file_path)\n",
    "            \n",
    "            # 获取文件的 IPFS 哈希\n",
    "            file_hash = res['Hash']\n",
    "            \n",
    "            print(f\"File uploaded successfully. IPFS Hash: {file_hash}\")\n",
    "            return file_hash\n",
    "    except Exception as e:\n",
    "        print(f\"Error uploading file: {e}\")\n",
    "        return None\n",
    "\n",
    "# 示例文件路径\n",
    "file_path = './block.json'\n",
    "\n",
    "# 上传文件\n",
    "file_hash = upload_file_to_ipfs(file_path)"
   ]
  },
  {
   "cell_type": "code",
   "execution_count": 8,
   "metadata": {},
   "outputs": [
    {
     "name": "stdout",
     "output_type": "stream",
     "text": [
      "File uploaded successfully. IPFS Hash: QmdJdRP2p6eza5QeSEVKMwvYPyuErbp3xrGschfQBoSmyG\n"
     ]
    }
   ],
   "source": [
    "#端口转发方式\n",
    "import ipfshttpclient2\n",
    "#更新版本的IPFS连接器\n",
    "def upload_file_to_ipfs(file_path):\n",
    "    try:\n",
    "        # 连接到本地 IPFS 节点\n",
    "        with ipfshttpclient2.connect('/ip4/127.0.0.1/tcp/5001/http') as client:\n",
    "            # 上传文件\n",
    "            res = client.add(file_path)\n",
    "            \n",
    "            # 获取文件的 IPFS 哈希\n",
    "            file_hash = res['Hash']\n",
    "            \n",
    "            print(f\"File uploaded successfully. IPFS Hash: {file_hash}\")\n",
    "            return file_hash\n",
    "    except Exception as e:\n",
    "        print(f\"Error uploading file: {e}\")\n",
    "        return None\n",
    "\n",
    "# 示例文件路径\n",
    "file_path = './block.json'\n",
    "\n",
    "# 上传文件\n",
    "file_hash = upload_file_to_ipfs(file_path)"
   ]
  }
 ],
 "metadata": {
  "kernelspec": {
   "display_name": "Python 3",
   "language": "python",
   "name": "python3"
  },
  "language_info": {
   "codemirror_mode": {
    "name": "ipython",
    "version": 3
   },
   "file_extension": ".py",
   "mimetype": "text/x-python",
   "name": "python",
   "nbconvert_exporter": "python",
   "pygments_lexer": "ipython3",
   "version": "3.13.0"
  }
 },
 "nbformat": 4,
 "nbformat_minor": 2
}
