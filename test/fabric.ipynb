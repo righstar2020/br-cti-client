{
 "cells": [
  {
   "cell_type": "code",
   "execution_count": 67,
   "metadata": {},
   "outputs": [],
   "source": [
    "import requests\n",
    "import json\n",
    "\n",
    "def send_http_request(url):\n",
    "    try:\n",
    "        # 发送 HTTP GET 请求\n",
    "        response = requests.get(url)\n",
    "        \n",
    "        # 检查响应状态码\n",
    "        if response.status_code == 200:\n",
    "            # 解析 JSON 数据\n",
    "            response = response.json()\n",
    "            dataStr=response['data']\n",
    "            block_data = json.loads(dataStr)\n",
    "            formatted_json = json.dumps(block_data, indent=2, ensure_ascii=False)\n",
    "            return block_data\n",
    "        else:\n",
    "            print(f\"Request failed with status code: {response.status_code}\")\n",
    "            print(f\"Response content: {response.content}\")\n",
    "            return None\n",
    "    except requests.exceptions.RequestException as e:\n",
    "        print(f\"An error occurred: {e}\")\n",
    "        return None\n",
    "\n",
    "url = \"http://localhost:7777/queryBlock/1\"\n",
    "block = send_http_request(url)\n"
   ]
  },
  {
   "cell_type": "code",
   "execution_count": 76,
   "metadata": {},
   "outputs": [],
   "source": [
    "import base64\n",
    "def base64_to_binary(base64_data):\n",
    "    # 解码 Base64 编码的二进制数据\n",
    "    decoded_bytes = base64.b64decode(base64_data)\n",
    "    return decoded_bytes\n",
    "def get_block_txs(block):\n",
    "    # 提取交易信息\n",
    "    transactions = block['data']['data']\n",
    "\n",
    "    # 遍历每个交易并提取交易 ID\n",
    "    for tx in transactions:\n",
    "        # 交易数据通常在 payload.data.action.proposal_response_payload 中\n",
    "        if 'data' in tx['payload']:\n",
    "            if 'actions' in tx['payload']['data']:\n",
    "                for action_item in tx['payload']['data']['actions']:\n",
    "                    proposal_response_payload = action_item['payload']['action']['proposal_response_payload']\n",
    "                    proposal_response_payload_str=json.dumps(proposal_response_payload, indent=4)\n",
    "                    print(proposal_response_payload_str)\n",
    "        \n",
    "        if 'header' in tx['payload']:\n",
    "            # 解析 proposal_response_payload 以获取交易 ID\n",
    "            transaction_id = tx['payload']['header']['channel_header']['tx_id']\n",
    "            transaction_id = base64_to_binary(transaction_id).hex()\n",
    "            print(f\"Transaction ID: {transaction_id}\")"
   ]
  },
  {
   "cell_type": "code",
   "execution_count": 77,
   "metadata": {},
   "outputs": [
    {
     "name": "stdout",
     "output_type": "stream",
     "text": [
      "{\n",
      "    \"extension\": {\n",
      "        \"chaincode_id\": {\n",
      "            \"name\": \"_lifecycle\",\n",
      "            \"path\": \"\",\n",
      "            \"version\": \"syscc\"\n",
      "        },\n",
      "        \"events\": null,\n",
      "        \"response\": {\n",
      "            \"message\": \"\",\n",
      "            \"payload\": null,\n",
      "            \"status\": 200\n",
      "        },\n",
      "        \"results\": {\n",
      "            \"data_model\": \"KV\",\n",
      "            \"ns_rwset\": [\n",
      "                {\n",
      "                    \"collection_hashed_rwset\": [\n",
      "                        {\n",
      "                            \"collection_name\": \"_implicit_org_Org1MSP\",\n",
      "                            \"hashed_rwset\": \"CiIKIN9k++z2Y4dEfpD5OEhYQmkBAWGnJFJQeU0YM/DA+SxVCiIKIC1NbdYV1Ok0L2NpgayLt5RXmXlycIAOZ8P4gefleTESEkQKIGzL1oZz598UEvOYWeB2tWWxbWpsRrfRZVAjpADHSf5gGiAyB+wy8OXd2U06rvItQXT6MkRJZxf2jwiemQn0fCK+PBJECiDfZPvs9mOHRH6Q+ThIWEJpAQFhpyRSUHlNGDPwwPksVRogaVLt4CLLrpWeG0qg2tR+hbyeHk6djfzwiFB5NIgLvnUSRAogMEwE1nug6UlgU3qx/PrqAYUxyRLQQ4NTtgGimIzR4OgaIAjafEXLIEN35+QiSc2lcT+oZRFt27TLWhlJsuW0OKarEkQKIEvllEjrAxL8vy68vz366MD44tp/dm3Qkfm18lqa7NOVGiAtcYuIRz9j+TeEf5EROvz+GqcIytQS6jnso5to2VZAuxJECiCDRySadh1ysAzN6/UR/0uLDNHE3SZjfMyWOn3XoKSTERogGKMI9IifTm1ctHhIjYoR39H7yYzHkKXlkfJ0xFB1t1ISRAogLU1t1hXU6TQvY2mBrIu3lFeZeXJwgA5nw/iB5+V5MRIaIJkUMttz/t4T7b0qYbDg6SuxLzxIS+C2YMr4sMMe8UcG\",\n",
      "                            \"pvt_rwset_hash\": \"5i3fNGzwXlEyRADh50Gr6ZeJOhK0G9AfNkQwiPm0dnk=\"\n",
      "                        }\n",
      "                    ],\n",
      "                    \"namespace\": \"_lifecycle\",\n",
      "                    \"rwset\": {\n",
      "                        \"metadata_writes\": [],\n",
      "                        \"range_queries_info\": [],\n",
      "                        \"reads\": [\n",
      "                            {\n",
      "                                \"key\": \"namespaces/fields/basic/Sequence\",\n",
      "                                \"version\": null\n",
      "                            },\n",
      "                            {\n",
      "                                \"key\": \"namespaces/metadata/basic\",\n",
      "                                \"version\": null\n",
      "                            }\n",
      "                        ],\n",
      "                        \"writes\": []\n",
      "                    }\n",
      "                },\n",
      "                {\n",
      "                    \"collection_hashed_rwset\": [],\n",
      "                    \"namespace\": \"lscc\",\n",
      "                    \"rwset\": {\n",
      "                        \"metadata_writes\": [],\n",
      "                        \"range_queries_info\": [],\n",
      "                        \"reads\": [\n",
      "                            {\n",
      "                                \"key\": \"basic\",\n",
      "                                \"version\": null\n",
      "                            }\n",
      "                        ],\n",
      "                        \"writes\": []\n",
      "                    }\n",
      "                }\n",
      "            ]\n",
      "        }\n",
      "    },\n",
      "    \"proposal_hash\": \"XuULm7pDeadNNWKPRt0CebUDuKIP+wkt6YrTTl4m0GQ=\"\n",
      "}\n",
      "Transaction ID: d35d5d7f9db8d3873a7b6e7a77bdfdeba6f9f7d7dcd74f5dd376b9db6efb7ddeb9d76d1ddbde9b69be3defcddde74e3b\n"
     ]
    }
   ],
   "source": [
    "get_block_txs(send_http_request(\"http://localhost:7777/queryBlock/3\"))"
   ]
  },
  {
   "cell_type": "code",
   "execution_count": 39,
   "metadata": {},
   "outputs": [
    {
     "name": "stdout",
     "output_type": "stream",
     "text": [
      "{\n",
      "  \"BCI\": {\n",
      "    \"height\": 8,\n",
      "    \"currentBlockHash\": \"6WGTeUEqtnYwC76ueUuB9Xevk9W3Z0+IEMnS+hoqxcI=\",\n",
      "    \"previousBlockHash\": \"LXpo3xOUCd6BMF4auBWIMkpuziwjieTyaOuEsqUfY2g=\"\n",
      "  },\n",
      "  \"Endorser\": \"172.22.232.42:7051\",\n",
      "  \"Status\": 200\n",
      "}\n"
     ]
    }
   ],
   "source": [
    "import requests\n",
    "import json\n",
    "\n",
    "def send_http_request(url):\n",
    "    try:\n",
    "        # 发送 HTTP GET 请求\n",
    "        response = requests.get(url)\n",
    "        \n",
    "        # 检查响应状态码\n",
    "        if response.status_code == 200:\n",
    "            # 解析 JSON 数据\n",
    "            response = response.json()\n",
    "            dataStr=response['data']\n",
    "            data = json.loads(dataStr)\n",
    "\n",
    "            formatted_json = json.dumps(data, indent=2, ensure_ascii=False)\n",
    "            # 打印格式化后的 JSON 数据\n",
    "            print(formatted_json)\n",
    "            return data\n",
    "        else:\n",
    "            print(f\"Request failed with status code: {response.status_code}\")\n",
    "            print(f\"Response content: {response.content}\")\n",
    "    except requests.exceptions.RequestException as e:\n",
    "        print(f\"An error occurred: {e}\")\n",
    "\n",
    "url = \"http://localhost:7777/queryChain\"\n",
    "chainInfo = send_http_request(url)"
   ]
  },
  {
   "cell_type": "code",
   "execution_count": 23,
   "metadata": {},
   "outputs": [
    {
     "name": "stdout",
     "output_type": "stream",
     "text": [
      "e9619379412ab676300bbeae794b81f577af93d5b7674f8810c9d2fa1a2ac5c2\n"
     ]
    }
   ],
   "source": [
    "import base64\n",
    "def base64_to_binary(base64_data):\n",
    "    # 解码 Base64 编码的二进制数据\n",
    "    decoded_bytes = base64.b64decode(base64_data)\n",
    "    return decoded_bytes\n",
    "\n",
    "print(base64_to_binary(chainInfo['BCI']['currentBlockHash']).hex())"
   ]
  },
  {
   "cell_type": "code",
   "execution_count": 26,
   "metadata": {},
   "outputs": [
    {
     "data": {
      "text/plain": [
       "'778ea6542ae0b420327fea470b037597784f21788822bf69'"
      ]
     },
     "execution_count": 26,
     "metadata": {},
     "output_type": "execute_result"
    }
   ],
   "source": [
    "\n",
    "base64_to_binary(\"d46mVCrgtCAyf+pHCwN1l3hPIXiIIr9p\").hex()"
   ]
  }
 ],
 "metadata": {
  "kernelspec": {
   "display_name": "Python 3",
   "language": "python",
   "name": "python3"
  },
  "language_info": {
   "codemirror_mode": {
    "name": "ipython",
    "version": 3
   },
   "file_extension": ".py",
   "mimetype": "text/x-python",
   "name": "python",
   "nbconvert_exporter": "python",
   "pygments_lexer": "ipython3",
   "version": "3.13.0"
  }
 },
 "nbformat": 4,
 "nbformat_minor": 2
}
