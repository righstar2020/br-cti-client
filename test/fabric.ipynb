{
 "cells": [
  {
   "cell_type": "code",
   "execution_count": 67,
   "metadata": {},
   "outputs": [],
   "source": [
    "import requests\n",
    "import json\n",
    "\n",
    "def send_http_request(url):\n",
    "    try:\n",
    "        # 发送 HTTP GET 请求\n",
    "        response = requests.get(url)\n",
    "        \n",
    "        # 检查响应状态码\n",
    "        if response.status_code == 200:\n",
    "            # 解析 JSON 数据\n",
    "            response = response.json()\n",
    "            dataStr=response['data']\n",
    "            block_data = json.loads(dataStr)\n",
    "            formatted_json = json.dumps(block_data, indent=2, ensure_ascii=False)\n",
    "            return block_data\n",
    "        else:\n",
    "            print(f\"Request failed with status code: {response.status_code}\")\n",
    "            print(f\"Response content: {response.content}\")\n",
    "            return None\n",
    "    except requests.exceptions.RequestException as e:\n",
    "        print(f\"An error occurred: {e}\")\n",
    "        return None\n",
    "\n",
    "url = \"http://localhost:7777/queryBlock/1\"\n",
    "block = send_http_request(url)\n"
   ]
  },
  {
   "cell_type": "code",
   "execution_count": 5,
   "metadata": {},
   "outputs": [],
   "source": [
    "import base64\n",
    "def base64_to_binary(base64_data):\n",
    "    # 解码 Base64 编码的二进制数据\n",
    "    decoded_bytes = base64.b64decode(base64_data)\n",
    "    return decoded_bytes\n",
    "def get_block_txs(block):\n",
    "    # 提取交易信息\n",
    "    transactions = block['data']['data']\n",
    "\n",
    "    # 遍历每个交易并提取交易 ID\n",
    "    for tx in transactions:\n",
    "        # 交易数据通常在 payload.data.action.proposal_response_payload 中\n",
    "        if 'data' in tx['payload']:\n",
    "            if 'actions' in tx['payload']['data']:\n",
    "                for action_item in tx['payload']['data']['actions']:\n",
    "                    proposal_response_payload = action_item['payload']['action']['proposal_response_payload']\n",
    "                    proposal_response_payload_str=json.dumps(proposal_response_payload, indent=4)\n",
    "                    print(proposal_response_payload_str)\n",
    "        \n",
    "        if 'header' in tx['payload']:\n",
    "            # 解析 proposal_response_payload 以获取交易 ID\n",
    "            transaction_id = tx['payload']['header']['channel_header']['tx_id']\n",
    "            transaction_id = base64_to_binary(transaction_id).hex()\n",
    "            print(f\"Transaction ID: {transaction_id}\")"
   ]
  },
  {
   "cell_type": "code",
   "execution_count": 6,
   "metadata": {},
   "outputs": [
    {
     "name": "stdout",
     "output_type": "stream",
     "text": [
      "An error occurred: ('Connection aborted.', RemoteDisconnected('Remote end closed connection without response'))\n"
     ]
    },
    {
     "ename": "TypeError",
     "evalue": "'NoneType' object is not subscriptable",
     "output_type": "error",
     "traceback": [
      "\u001b[1;31m---------------------------------------------------------------------------\u001b[0m",
      "\u001b[1;31mTypeError\u001b[0m                                 Traceback (most recent call last)",
      "Cell \u001b[1;32mIn[6], line 1\u001b[0m\n\u001b[1;32m----> 1\u001b[0m \u001b[43mget_block_txs\u001b[49m\u001b[43m(\u001b[49m\u001b[43msend_http_request\u001b[49m\u001b[43m(\u001b[49m\u001b[38;5;124;43m\"\u001b[39;49m\u001b[38;5;124;43mhttp://localhost:7777/queryBlock/3\u001b[39;49m\u001b[38;5;124;43m\"\u001b[39;49m\u001b[43m)\u001b[49m\u001b[43m)\u001b[49m\n",
      "Cell \u001b[1;32mIn[5], line 8\u001b[0m, in \u001b[0;36mget_block_txs\u001b[1;34m(block)\u001b[0m\n\u001b[0;32m      6\u001b[0m \u001b[38;5;28;01mdef\u001b[39;00m \u001b[38;5;21mget_block_txs\u001b[39m(block):\n\u001b[0;32m      7\u001b[0m     \u001b[38;5;66;03m# 提取交易信息\u001b[39;00m\n\u001b[1;32m----> 8\u001b[0m     transactions \u001b[38;5;241m=\u001b[39m \u001b[43mblock\u001b[49m\u001b[43m[\u001b[49m\u001b[38;5;124;43m'\u001b[39;49m\u001b[38;5;124;43mdata\u001b[39;49m\u001b[38;5;124;43m'\u001b[39;49m\u001b[43m]\u001b[49m[\u001b[38;5;124m'\u001b[39m\u001b[38;5;124mdata\u001b[39m\u001b[38;5;124m'\u001b[39m]\n\u001b[0;32m     10\u001b[0m     \u001b[38;5;66;03m# 遍历每个交易并提取交易 ID\u001b[39;00m\n\u001b[0;32m     11\u001b[0m     \u001b[38;5;28;01mfor\u001b[39;00m tx \u001b[38;5;129;01min\u001b[39;00m transactions:\n\u001b[0;32m     12\u001b[0m         \u001b[38;5;66;03m# 交易数据通常在 payload.data.action.proposal_response_payload 中\u001b[39;00m\n",
      "\u001b[1;31mTypeError\u001b[0m: 'NoneType' object is not subscriptable"
     ]
    }
   ],
   "source": [
    "get_block_txs(send_http_request(\"http://localhost:7777/queryBlock/3\"))"
   ]
  },
  {
   "cell_type": "code",
   "execution_count": 2,
   "metadata": {},
   "outputs": [
    {
     "name": "stdout",
     "output_type": "stream",
     "text": [
      "An error occurred: ('Connection aborted.', RemoteDisconnected('Remote end closed connection without response'))\n"
     ]
    }
   ],
   "source": [
    "import requests\n",
    "import json\n",
    "\n",
    "def send_http_request(url):\n",
    "    try:\n",
    "        # 发送 HTTP GET 请求\n",
    "        response = requests.get(url)\n",
    "        \n",
    "        # 检查响应状态码\n",
    "        if response.status_code == 200:\n",
    "            # 解析 JSON 数据\n",
    "            response = response.json()\n",
    "            dataStr=response['data']\n",
    "            data = json.loads(dataStr)\n",
    "\n",
    "            formatted_json = json.dumps(data, indent=2, ensure_ascii=False)\n",
    "            # 打印格式化后的 JSON 数据\n",
    "            print(formatted_json)\n",
    "            return data\n",
    "        else:\n",
    "            print(f\"Request failed with status code: {response.status_code}\")\n",
    "            print(f\"Response content: {response.content}\")\n",
    "    except requests.exceptions.RequestException as e:\n",
    "        print(f\"An error occurred: {e}\")\n",
    "\n",
    "url = \"http://localhost:7777/queryChain\"\n",
    "chainInfo = send_http_request(url)"
   ]
  },
  {
   "cell_type": "code",
   "execution_count": 23,
   "metadata": {},
   "outputs": [
    {
     "name": "stdout",
     "output_type": "stream",
     "text": [
      "e9619379412ab676300bbeae794b81f577af93d5b7674f8810c9d2fa1a2ac5c2\n"
     ]
    }
   ],
   "source": [
    "import base64\n",
    "def base64_to_binary(base64_data):\n",
    "    # 解码 Base64 编码的二进制数据\n",
    "    decoded_bytes = base64.b64decode(base64_data)\n",
    "    return decoded_bytes\n",
    "\n",
    "print(base64_to_binary(chainInfo['BCI']['currentBlockHash']).hex())"
   ]
  },
  {
   "cell_type": "code",
   "execution_count": 26,
   "metadata": {},
   "outputs": [
    {
     "data": {
      "text/plain": [
       "'778ea6542ae0b420327fea470b037597784f21788822bf69'"
      ]
     },
     "execution_count": 26,
     "metadata": {},
     "output_type": "execute_result"
    }
   ],
   "source": [
    "\n",
    "base64_to_binary(\"d46mVCrgtCAyf+pHCwN1l3hPIXiIIr9p\").hex()"
   ]
  }
 ],
 "metadata": {
  "kernelspec": {
   "display_name": "Python 3",
   "language": "python",
   "name": "python3"
  },
  "language_info": {
   "codemirror_mode": {
    "name": "ipython",
    "version": 3
   },
   "file_extension": ".py",
   "mimetype": "text/x-python",
   "name": "python",
   "nbconvert_exporter": "python",
   "pygments_lexer": "ipython3",
   "version": "3.13.0"
  }
 },
 "nbformat": 4,
 "nbformat_minor": 2
}
